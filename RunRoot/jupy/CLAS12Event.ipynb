{
 "cells": [
  {
   "cell_type": "markdown",
   "metadata": {},
   "source": [
    "# General loop over events and particles"
   ]
  },
  {
   "cell_type": "code",
   "execution_count": null,
   "metadata": {},
   "outputs": [],
   "source": [
    "gROOT->ProcessLine(\".x $CLAS12TOOL/RunRoot/hiporoot/LoadHipoROOT.C\");"
   ]
  },
  {
   "cell_type": "code",
   "execution_count": null,
   "metadata": {},
   "outputs": [],
   "source": [
    "%%file Ex1_CLAS12Reader.C\n",
    "#include <cstdlib>\n",
    "#include <iostream>\n",
    "#include <chrono>\n",
    "#include <TFile.h>\n",
    "#include <TTree.h>\n",
    "#include <TApplication.h>\n",
    "#include <TROOT.h>\n",
    "#include <TDatabasePDG.h>\n",
    "#include <TLorentzVector.h>\n",
    "#include <TH1.h>\n",
    "#include <TChain.h>\n",
    "#include <TCanvas.h>\n",
    "#include <TBenchmark.h>\n",
    "#include \"clas12reader.h\"\n",
    "\n",
    "using namespace clas12;\n",
    "\n",
    "//just make the code a bit neater when using shared_ptr\n",
    "using P4_t=TLorentzVector;\n",
    "using p4_ptr = std::shared_ptr<P4_t>;\n",
    "\n",
    "void SetLorentzVector(p4_ptr p4,clas12::region_part_ptr rp){\n",
    "  p4->SetXYZM(rp->par()->getPx(),rp->par()->getPy(),\n",
    "              rp->par()->getPz(),p4->M());\n",
    "}\n",
    "\n",
    "void Ex1_CLAS12Reader(TString filename){\n",
    "\n",
    "   //some particles\n",
    "   auto db=TDatabasePDG::Instance();\n",
    "   auto beam=P4_t(0,0,10.6,10.6);\n",
    "   auto target=P4_t(0,0,0,db->GetParticle(2212)->Mass());\n",
    "   //remember these are really just TLorentzVector*\n",
    "   //but std::shared_ptr makes sure they are delted at end of scope\n",
    "  // auto el=p4_ptr(new P4_t(0,0,0,db->GetParticle(11)->Mass()));\n",
    "    p4_ptr el{new P4_t(0,0,0,db->GetParticle(11)->Mass())};\n",
    "   auto pr=p4_ptr(new P4_t(0,0,0,db->GetParticle(2212)->Mass()));\n",
    "   auto g1=p4_ptr(new P4_t(0,0,0,0));\n",
    "   auto g2=p4_ptr(new P4_t(0,0,0,0));\n",
    "   auto pip=p4_ptr(new P4_t(0,0,0,db->GetParticle(211)->Mass()));\n",
    "   auto pim=p4_ptr(new P4_t(0,0,0,db->GetParticle(-211)->Mass()));\n",
    "\n",
    "   //a histogram (pre C++11 !)\n",
    "   auto* hmiss=new TH1F(\"missM\",\"missM\",200,-2,3);\n",
    "   auto* hm2g=new TH1F(\"m2g\",\"m2g\",200,0,1);\n",
    "   auto* hm2gCut=new TH1F(\"m2gCut\",\"m2g\",200,0,1);\n",
    "   \n",
    "    gBenchmark->Start(\"timer\");\n",
    "    clas12reader event(filename.Data());\n",
    "\n",
    "    while(event.next()==true){\n",
    "        // get particles by type\n",
    "        auto electrons=event.getByID(11);\n",
    "        auto gammas=event.getByID(22);\n",
    "        auto protons=event.getByID(2212);\n",
    "        auto pips=event.getByID(211);\n",
    "        auto pims=event.getByID(-211);\n",
    "\n",
    "        if(electrons.size()==1 && gammas.size()==2 && protons.size()==1 &&\n",
    "             pips.size()==1 &&pims.size() == 1){\n",
    "       \n",
    "            // set the particle momentum\n",
    "            // i.e. auto el = electrons[0]->p4(); etc.\n",
    "            SetLorentzVector(el,electrons[0]);\n",
    "            SetLorentzVector(pr,protons[0]);\n",
    "            SetLorentzVector(g1,gammas[0]);\n",
    "            SetLorentzVector(g2,gammas[1]);\n",
    "            SetLorentzVector(pip,pips[0]);\n",
    "            SetLorentzVector(pim,pims[0]);\n",
    "            //calculate missing particle 4-vector\n",
    "            TLorentzVector miss=beam+target-*el-*pr-*g1-*g2-*pip-*pim;\n",
    "            hmiss->Fill(miss.M2()); //fill hist\n",
    "            //calculate pi0 4-vector\n",
    "            TLorentzVector pi0 = *g1+*g2;\n",
    "            hm2g->Fill(pi0.M()); //fill hist\n",
    "            //Apply cut on missing mass squared\n",
    "            if(TMath::Abs(miss.M2())<0.5)hm2gCut->Fill(pi0.M());//fill hist\n",
    "        }\n",
    "        \n",
    "    }\n",
    "   \n",
    "    gBenchmark->Stop(\"timer\");\n",
    "    gBenchmark->Print(\"timer\");\n",
    "  \n",
    "    //make canvas (required in notebook)\n",
    "    TCanvas* can=new TCanvas();\n",
    "    can->Divide(2,1);\n",
    "    can->cd(1);\n",
    "    hmiss->DrawCopy();\n",
    "    can->cd(2);\n",
    "    hm2g->DrawCopy();\n",
    "    hm2gCut->SetLineColor(2);\n",
    "    hm2gCut->DrawCopy(\"same\");\n",
    "  \n",
    "    can->Draw();\n",
    "}\n"
   ]
  },
  {
   "cell_type": "code",
   "execution_count": null,
   "metadata": {},
   "outputs": [],
   "source": [
    "%jsroot"
   ]
  },
  {
   "cell_type": "code",
   "execution_count": null,
   "metadata": {},
   "outputs": [],
   "source": [
    "gROOT->ProcessLine(\".x Ex1_CLAS12Reader.C+(\\\"/WHERE/IS/MY/HIPO/clas_004152.recon.hipo\\\")\");"
   ]
  }
 ],
 "metadata": {
  "kernelspec": {
   "display_name": "ROOT C++",
   "language": "c++",
   "name": "root"
  },
  "language_info": {
   "codemirror_mode": "text/x-c++src",
   "file_extension": ".C",
   "mimetype": " text/x-c++src",
   "name": "c++"
  }
 },
 "nbformat": 4,
 "nbformat_minor": 2
}
