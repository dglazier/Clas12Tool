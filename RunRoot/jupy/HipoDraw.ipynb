{
 "cells": [
  {
   "cell_type": "code",
   "execution_count": null,
   "metadata": {},
   "outputs": [],
   "source": [
    "gROOT->ProcessLine(\".x $CLAS12TOOL/RunRoot/hiporoot/LoadHipoROOT.C\");"
   ]
  },
  {
   "cell_type": "code",
   "execution_count": null,
   "metadata": {},
   "outputs": [],
   "source": [
    "ParticleHist hists(\"/home/dglazier/fastdata/hipo4test/filtered/clas_004152.recon.hipo\");"
   ]
  },
  {
   "cell_type": "code",
   "execution_count": null,
   "metadata": {},
   "outputs": [],
   "source": [
    "%jsroot"
   ]
  },
  {
   "cell_type": "code",
   "execution_count": null,
   "metadata": {
    "scrolled": false
   },
   "outputs": [],
   "source": [
    "hists.Hist1D(\"FTOF1B.Time\",1000,-500,500)->Draw(\"hist\")\n"
   ]
  },
  {
   "cell_type": "code",
   "execution_count": null,
   "metadata": {
    "scrolled": false
   },
   "outputs": [],
   "source": [
    "  hists.Hist2D(\"P.Theta*TMath::RadToDeg():P.Phi*TMath::RadToDeg()\",180,0,180,180,-180,180,\"P.Pid==11\");\n",
    "  hists.Hist2D(\"P.Theta*TMath::RadToDeg():P.Phi*TMath::RadToDeg()\",180,0,180,180,-180,180,\"P.Pid==-11\");\n",
    "  hists.Hist2D(\"P.Theta*TMath::RadToDeg():P.Phi*TMath::RadToDeg()\",180,0,180,180,-180,180,\"P.Pid==22\");\n",
    "  hists.Hist2D(\"P.Theta*TMath::RadToDeg():P.Phi*TMath::RadToDeg()\",180,0,180,180,-180,180,\"P.Pid==2212\");\n",
    "  hists.Hist2D(\"P.Theta*TMath::RadToDeg():P.Phi*TMath::RadToDeg()\",180,0,180,180,-180,180,\"P.Pid==211\");\n",
    "  hists.Hist2D(\"P.Theta*TMath::RadToDeg():P.Phi*TMath::RadToDeg()\",180,0,180,180,-180,180,\"P.Pid==-211\");\n",
    "  hists.Hist2D(\"P.Theta*TMath::RadToDeg():P.Phi*TMath::RadToDeg()\",180,0,180,180,-180,180,\"P.Pid==321\");\n",
    "  hists.Hist2D(\"P.Theta*TMath::RadToDeg():P.Phi*TMath::RadToDeg()\",180,0,180,180,-180,180,\"P.Pid==-321\")->Draw(\"(4x2)col1\");\n"
   ]
  }
 ],
 "metadata": {
  "kernelspec": {
   "display_name": "ROOT C++",
   "language": "c++",
   "name": "root"
  },
  "language_info": {
   "codemirror_mode": "text/x-c++src",
   "file_extension": ".C",
   "mimetype": " text/x-c++src",
   "name": "c++"
  }
 },
 "nbformat": 4,
 "nbformat_minor": 2
}
