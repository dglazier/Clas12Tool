{
 "cells": [
  {
   "cell_type": "markdown",
   "metadata": {},
   "source": [
    "# Drawing histograms with hiporoot::ParticleHist\n",
    "\n",
    "First load the classes into the notebook\n",
    "\n",
    "You need to select if you are using hipo3 (Clas12Root3) or hipo4 (Clas12Root4) in the next cell"
   ]
  },
  {
   "cell_type": "code",
   "execution_count": 1,
   "metadata": {},
   "outputs": [],
   "source": [
    "//gROOT->ProcessLine(\".x $CLAS12TOOL/RunRoot/LoadClas12Root3.C\");\n",
    "gROOT->ProcessLine(\".x $CLAS12TOOL/RunRoot/LoadClas12Root4.C\");"
   ]
  },
  {
   "cell_type": "markdown",
   "metadata": {},
   "source": [
    "Create the histogram maker with the full path to the hipo file you want to analyse. You may also give wildcard (*) arguments ."
   ]
  },
  {
   "cell_type": "code",
   "execution_count": 2,
   "metadata": {},
   "outputs": [],
   "source": [
    "//ParticleHist hists(\"/WHERE/IS/MY/HIPO/file.hipo\");\n",
    "ParticleHist hists(\"/work/jlab/clas12data/dst_skim4_5038.hipo\");"
   ]
  },
  {
   "cell_type": "markdown",
   "metadata": {},
   "source": [
    "Turn on javascript ROOT for interactive histograms"
   ]
  },
  {
   "cell_type": "code",
   "execution_count": 3,
   "metadata": {},
   "outputs": [],
   "source": [
    "%jsroot"
   ]
  },
  {
   "cell_type": "markdown",
   "metadata": {},
   "source": [
    "Draw some histograms. There are predefined aliases for DST bank detector layers :\n",
    "\n",
    "        ECIN. , ECOUT. , PCAL. , FTOF1A. , FTOF1B. , FTOF2. , CTOF. , CND1. , CND2. , CND3. , FTCAL. , FTHODO. , HTCC. , LTCC. , DC. , CVT. \n",
    "        e.g. ECIN.Energy  , HTCC.Nphe , DC.TrChi2 , CTOF.Time\n",
    "\n",
    "The REC::Particle bank should be directly accessed with \n",
    "\n",
    "        PBANK.\n",
    "        e.g. PBANK.Pid , PBANK.Px\n",
    "        \n",
    "The region particle should be accessed with \n",
    "\n",
    "        P.\n",
    "        e.g. P.Theta , P.P , P.Phi , P.Region , P.Time , P.DetEnergy , P.DeltaEnergy , P.Path , P.Pid , P.CalcMass"
   ]
  },
  {
   "cell_type": "markdown",
   "metadata": {},
   "source": [
    "## Drawing hists 1\n",
    "First draw a 1D histogram of the time difference between FTOF1A and FTOF1B\n",
    "\n",
    "Second, draw a 2D hist of the time difference versus the particle theta, with colour map.\n",
    "\n",
    "Plot the 2 histograms side-by-side (2x1)"
   ]
  },
  {
   "cell_type": "code",
   "execution_count": 4,
   "metadata": {
    "scrolled": false
   },
   "outputs": [
    {
     "name": "stdout",
     "output_type": "stream",
     "text": [
      "\n",
      "#include \"HipoRootAction.h\"\n",
      "#include \"ParticleHist.h\"\n",
      "#include \"clas12reader.h\"\n",
      "#include \"clas12defs.h\"\n",
      "#include \"region_particle.h\"\n",
      "#include <TH1.h>\n",
      "#include <TMath.h>\n",
      "#include <memory>\n",
      "#include <cmath>\n",
      "\n",
      "namespace clas12root{\n",
      "  using namespace clas12;\n",
      "\n",
      "  class ParticleHistAction0 : public HipoRootAction{\n",
      "  \n",
      "    void Action(clas12root::HipoROOTOut *hiprout) final{\n",
      "      auto phist=dynamic_cast<ParticleHist*>(hiprout);\n",
      "\n",
      "      auto hists=phist->Hists();\n",
      "      clas12::clas12reader c12(phist->NextFile().Data());\n",
      "      std::vector<region_part_ptr>* particles=c12.getDetParticlesPtr();\n",
      "\n",
      "      while(c12.next()==true){\n",
      "\tfor(auto& p : *particles){\n",
      "\t  ////if(CCCC)hists->at(IIII)->Fill(XXXX);\n",
      "\t  if((p->sci(FTOF1B)->getTime())-(p->sci(FTOF2)->getTime()))hists->at(1)->Fill((p->sci(FTOF1B)->getTime())-(p->sci(FTOF2)->getTime()),(p->getTheta())*TMath::RadToDeg());\n",
      "\t  if((p->sci(FTOF1B)->getTime())-(p->sci(FTOF2)->getTime()))hists->at(0)->Fill((p->sci(FTOF1B)->getTime())-(p->sci(FTOF2)->getTime()));\n",
      "\t}\n",
      "     }\n",
      "    }\n",
      " \n",
      "    \n",
      "  };\n",
      "}\n"
     ]
    },
    {
     "name": "stderr",
     "output_type": "stream",
     "text": [
      "Info in <TUnixSystem::ACLiC>: creating shared library /home/dglazier/.clas12root/asdf0__ParticleHistAction___C.so\n"
     ]
    },
    {
     "name": "stdout",
     "output_type": "stream",
     "text": [
      "compile time: Real Time =   3.10 seconds Cpu Time =   0.18 seconds\n",
      "************************************************\n",
      "*         >=<      :  ---------------------    *\n",
      "*    ,.--'  ''-.   :  HIPO 4.0 I/O Library     *\n",
      "*    (  )  ',_.'   :  Jefferson National Lab   *\n",
      "*     Xx'xX        :  Date: 01/24/2019         *\n",
      "************************************************\n",
      "\n",
      "\n",
      "*****>>>>> compiled with c++11 support.\n",
      " clas12reader::clas12reader reading /work/jlab/clas12data/dst_skim4_5038.hipo\n",
      "----------------------------------------\n",
      "**** reader:: header version   : 6 \n",
      "**** reader:: header length    : 56 \n",
      "**** reader:: first record pos : 19092\n",
      "**** reader:: trailer position : 7918734680\n",
      "**** reader:: file size        : 7918751260\n",
      "----------------------------------------\n",
      "---> resizing internal compressed buffer size to from 0 to 21644\n",
      " resizing internal buffer from 0 to 43544\n",
      "*** reader:: trailer record event count : 1\n",
      "\n",
      "*****>>>>> compiled with c++11 support.\n",
      " number of rows = 1360\n",
      "---> resizing internal compressed buffer size to from 0 to 24100\n",
      " resizing internal buffer from 0 to 18915\n",
      "compression type = 0 data length = 18979\n",
      " reading record at position       56, number of entries =    16\n",
      "\n",
      "*****>>>>> compiled with c++11 support.\n",
      "schema : {RAW::scaler/20000/13}{crate/B,slot/B,channel/S,helicity/B,quartet/B,value/L}\n",
      "schema : {REC::Track/300/36}{index/S,pindex/S,detector/B,sector/B,status/S,q/B,chi2/F,NDF/S}\n",
      "schema : {REC::Event/300/30}{category/L,topology/L,beamCharge/F,liveTime/D,startTime/F,RFTime/F,helicity/B,helicityRaw/B,procTime/F}\n",
      "schema : {REC::Particle/300/31}{pid/I,px/F,py/F,pz/F,vx/F,vy/F,vz/F,charge/B,beta/F,chi2pid/F,status/S}\n",
      "schema : {RUN::config/10000/11}{run/I,event/I,unixtime/I,trigger/L,timestamp/L,type/B,mode/B,torus/F,solenoid/F}\n",
      "schema : {REC::Traj/300/40}{pindex/S,index/S,detector/B,layer/B,x/F,y/F,z/F,cx/F,cy/F,cz/F,path/F}\n",
      "schema : {REC::Calorimeter/300/32}{index/S,pindex/S,detector/B,sector/B,layer/B,energy/F,time/F,path/F,chi2/F,x/F,y/F,z/F,hx/F,hy/F,hz/F,lu/F,lv/F,lw/F,du/F,dv/F,dw/F,m2u/F,m2v/F,m2w/F,m3u/F,m3v/F,m3w/F,status/S}\n",
      "schema : {REC::CovMat/300/38}{index/S,pindex/S,C11/F,C12/F,C13/F,C14/F,C15/F,C22/F,C23/F,C24/F,C25/F,C33/F,C34/F,C35/F,C44/F,C45/F,C55/F}\n",
      "schema : {REC::ForwardTagger/300/34}{index/S,pindex/S,detector/B,layer/B,energy/F,time/F,path/F,chi2/F,x/F,y/F,z/F,dx/F,dy/F,radius/F,size/S,status/S}\n",
      "schema : {RAW::epics/20000/15}{json/B}\n",
      "schema : {REC::VertDoca/300/39}{index1/S,index2/S,x/F,y/F,z/F,x1/F,y1/F,z1/F,cx1/F,cy1/F,cz1/F,x2/F,y2/F,z2/F,cx2/F,cy2/F,cz2/F,r/F}\n",
      "schema : {REC::Cherenkov/300/33}{index/S,pindex/S,detector/B,sector/B,nphe/F,time/F,path/F,chi2/F,x/F,y/F,z/F,dtheta/F,dphi/F,status/S}\n",
      "schema : {REC::TrackCross/300/37}{index/S,pindex/S,detector/B,sector/B,layer/B,c_x/F,c_y/F,c_z/F,c_ux/F,c_uy/F,c_uz/F,status/S}\n",
      "schema : {REC::Scintillator/300/35}{index/S,pindex/S,detector/B,sector/B,layer/B,component/S,energy/F,time/F,path/F,chi2/F,x/F,y/F,z/F,hx/F,hy/F,hz/F,status/S}\n",
      "schema : {HEL::flip/22000/12}{run/I,event/I,timestamp/L,helicity/B,helicityRaw/B,pair/B,pattern/B,status/B}\n",
      "schema : {RUN::scaler/10000/14}{fcupgated/F,fcup/F,livetime/F}\n",
      "---> resizing internal compressed buffer size to from 21644 to 5868944\n",
      " resizing internal buffer from 44572 to 8375941\n",
      "---> resizing internal compressed buffer size to from 5868944 to 5878932\n",
      " resizing internal buffer from 8386933 to 8378464\n",
      "---> resizing internal compressed buffer size to from 5878932 to 5885212\n",
      " resizing internal buffer from 8388304 to 8379367\n",
      "---> resizing internal compressed buffer size to from 5885212 to 5915972\n",
      "---> resizing internal compressed buffer size to from 5915972 to 5932752\n"
     ]
    },
    {
     "data": {
      "text/html": [
       "\n",
       "<div id=\"root_plot_1\"\n",
       "     style=\"width: 696px; height: 472px\">\n",
       "</div>\n",
       "\n",
       "<script>\n",
       " requirejs.config({\n",
       "     paths: {\n",
       "       'JSRootCore' : 'https://root.cern.ch/js/notebook//scripts/JSRootCore',\n",
       "     }\n",
       "   });\n",
       " require(['JSRootCore'],\n",
       "     function(Core) {\n",
       "       var obj = Core.JSONR_unref({\"_typename\":\"TCanvas\",\"fUniqueID\":0,\"fBits\":53673992,\"fLineColor\":1,\"fLineStyle\":1,\"fLineWidth\":1,\"fFillColor\":0,\"fFillStyle\":1001,\"fLeftMargin\":0.1,\"fRightMargin\":0.1,\"fBottomMargin\":0.1,\"fTopMargin\":0.1,\"fXfile\":2,\"fYfile\":2,\"fAfile\":1,\"fXstat\":0.99,\"fYstat\":0.99,\"fAstat\":2,\"fFrameFillColor\":0,\"fFrameLineColor\":1,\"fFrameFillStyle\":1001,\"fFrameLineStyle\":1,\"fFrameLineWidth\":1,\"fFrameBorderSize\":1,\"fFrameBorderMode\":0,\"fX1\":0,\"fY1\":0,\"fX2\":1,\"fY2\":1,\"fXtoAbsPixelk\":5e-5,\"fXtoPixelk\":5e-5,\"fXtoPixel\":696,\"fYtoAbsPixelk\":472.00005,\"fYtoPixelk\":472.00005,\"fYtoPixel\":-472,\"fUtoAbsPixelk\":5e-5,\"fUtoPixelk\":5e-5,\"fUtoPixel\":696,\"fVtoAbsPixelk\":472.00005,\"fVtoPixelk\":472,\"fVtoPixel\":-472,\"fAbsPixeltoXk\":0,\"fPixeltoXk\":0,\"fPixeltoX\":0.0014367816091954,\"fAbsPixeltoYk\":1,\"fPixeltoYk\":0,\"fPixeltoY\":-0.00211864406779661,\"fXlowNDC\":0,\"fYlowNDC\":0,\"fXUpNDC\":0,\"fYUpNDC\":0,\"fWNDC\":1,\"fHNDC\":1,\"fAbsXlowNDC\":0,\"fAbsYlowNDC\":0,\"fAbsWNDC\":1,\"fAbsHNDC\":1,\"fUxmin\":0,\"fUymin\":0,\"fUxmax\":1,\"fUymax\":1,\"fTheta\":30,\"fPhi\":30,\"fAspectRatio\":0,\"fNumber\":0,\"fTickx\":0,\"fTicky\":0,\"fLogx\":0,\"fLogy\":0,\"fLogz\":0,\"fPadPaint\":0,\"fCrosshair\":0,\"fCrosshairPos\":0,\"fBorderSize\":2,\"fBorderMode\":0,\"fModified\":false,\"fGridx\":false,\"fGridy\":false,\"fAbsCoord\":false,\"fEditable\":true,\"fFixedAspectRatio\":false,\"fPrimitives\":{\"_typename\":\"TList\",\"name\":\"TList\",\"arr\":[{\"_typename\":\"TPad\",\"fUniqueID\":0,\"fBits\":50331657,\"fLineColor\":1,\"fLineStyle\":1,\"fLineWidth\":1,\"fFillColor\":0,\"fFillStyle\":1001,\"fLeftMargin\":0.1,\"fRightMargin\":0.1,\"fBottomMargin\":0.1,\"fTopMargin\":0.1,\"fXfile\":2,\"fYfile\":2,\"fAfile\":1,\"fXstat\":0.99,\"fYstat\":0.99,\"fAstat\":2,\"fFrameFillColor\":0,\"fFrameLineColor\":1,\"fFrameFillStyle\":1001,\"fFrameLineStyle\":1,\"fFrameLineWidth\":1,\"fFrameBorderSize\":1,\"fFrameBorderMode\":0,\"fX1\":0,\"fY1\":0,\"fX2\":1,\"fY2\":1,\"fXtoAbsPixelk\":6.96004984443188,\"fXtoPixelk\":5e-5,\"fXtoPixel\":334.080000311136,\"fYtoAbsPixelk\":467.2800501055,\"fYtoPixelk\":462.560050211,\"fYtoPixel\":-462.560000211,\"fUtoAbsPixelk\":6.96004984443188,\"fUtoPixelk\":5e-5,\"fUtoPixel\":334.080000311136,\"fVtoAbsPixelk\":467.2800501055,\"fVtoPixelk\":462.560000211,\"fVtoPixel\":-462.560000211,\"fAbsPixeltoXk\":-0.0208333328482695,\"fPixeltoXk\":0,\"fPixeltoX\":0.00299329501636937,\"fAbsPixeltoYk\":1.01020408139992,\"fPixeltoYk\":0,\"fPixeltoY\":-0.00216188170084712,\"fXlowNDC\":0.00999999977648258,\"fYlowNDC\":0.00999999977648258,\"fXUpNDC\":0,\"fYUpNDC\":0,\"fWNDC\":0.480000000447035,\"fHNDC\":0.980000000447035,\"fAbsXlowNDC\":0.00999999977648258,\"fAbsYlowNDC\":0.00999999977648258,\"fAbsWNDC\":0.480000000447035,\"fAbsHNDC\":0.980000000447035,\"fUxmin\":0,\"fUymin\":0,\"fUxmax\":1,\"fUymax\":1,\"fTheta\":30,\"fPhi\":30,\"fAspectRatio\":0,\"fNumber\":1,\"fTickx\":0,\"fTicky\":0,\"fLogx\":0,\"fLogy\":0,\"fLogz\":0,\"fPadPaint\":0,\"fCrosshair\":0,\"fCrosshairPos\":0,\"fBorderSize\":2,\"fBorderMode\":0,\"fModified\":true,\"fGridx\":false,\"fGridy\":false,\"fAbsCoord\":false,\"fEditable\":true,\"fFixedAspectRatio\":false,\"fPrimitives\":{\"_typename\":\"TList\",\"name\":\"TList\",\"arr\":[{\"_typename\":\"TH1F\",\"fUniqueID\":0,\"fBits\":50331657,\"fName\":\"FTOF1B.Time-FTOF2.Time_FTOF1B.Time-FTOF2.Time_copy\",\"fTitle\":\"FTOF1B.Time-FTOF2.Time for FTOF1B.Time-FTOF2.Time\",\"fLineColor\":602,\"fLineStyle\":1,\"fLineWidth\":1,\"fFillColor\":0,\"fFillStyle\":1001,\"fMarkerColor\":1,\"fMarkerStyle\":1,\"fMarkerSize\":1,\"fNcells\":1002,\"fXaxis\":{\"_typename\":\"TAxis\",\"fUniqueID\":0,\"fBits\":50331648,\"fName\":\"xaxis\",\"fTitle\":\"\",\"fNdivisions\":510,\"fAxisColor\":1,\"fLabelColor\":1,\"fLabelFont\":42,\"fLabelOffset\":0.005,\"fLabelSize\":0.035,\"fTickLength\":0.03,\"fTitleOffset\":1,\"fTitleSize\":0.035,\"fTitleColor\":1,\"fTitleFont\":42,\"fNbins\":1000,\"fXmin\":-5,\"fXmax\":5,\"fXbins\":[],\"fFirst\":0,\"fLast\":0,\"fBits2\":0,\"fTimeDisplay\":false,\"fTimeFormat\":\"\",\"fLabels\":null,\"fModLabs\":null},\"fYaxis\":{\"_typename\":\"TAxis\",\"fUniqueID\":0,\"fBits\":50331648,\"fName\":\"yaxis\",\"fTitle\":\"\",\"fNdivisions\":510,\"fAxisColor\":1,\"fLabelColor\":1,\"fLabelFont\":42,\"fLabelOffset\":0.005,\"fLabelSize\":0.035,\"fTickLength\":0.03,\"fTitleOffset\":0,\"fTitleSize\":0.035,\"fTitleColor\":1,\"fTitleFont\":42,\"fNbins\":1,\"fXmin\":0,\"fXmax\":1,\"fXbins\":[],\"fFirst\":0,\"fLast\":0,\"fBits2\":0,\"fTimeDisplay\":false,\"fTimeFormat\":\"\",\"fLabels\":null,\"fModLabs\":null},\"fZaxis\":{\"_typename\":\"TAxis\",\"fUniqueID\":0,\"fBits\":50331648,\"fName\":\"zaxis\",\"fTitle\":\"\",\"fNdivisions\":510,\"fAxisColor\":1,\"fLabelColor\":1,\"fLabelFont\":42,\"fLabelOffset\":0.005,\"fLabelSize\":0.035,\"fTickLength\":0.03,\"fTitleOffset\":1,\"fTitleSize\":0.035,\"fTitleColor\":1,\"fTitleFont\":42,\"fNbins\":1,\"fXmin\":0,\"fXmax\":1,\"fXbins\":[],\"fFirst\":0,\"fLast\":0,\"fBits2\":0,\"fTimeDisplay\":false,\"fTimeFormat\":\"\",\"fLabels\":null,\"fModLabs\":null},\"fBarOffset\":0,\"fBarWidth\":1000,\"fEntries\":9591925,\"fTsumw\":4805,\"fTsumw2\":4805,\"fTsumwx\":2105.43749393593,\"fTsumwx2\":22574.1863764482,\"fMaximum\":-1111,\"fMinimum\":-1111,\"fNormFactor\":0,\"fContour\":[],\"fSumw2\":[],\"fOption\":\"\",\"fFunctions\":{\"_typename\":\"TList\",\"name\":\"TList\",\"arr\":[],\"opt\":[]},\"fBufferSize\":0,\"fBuffer\":[],\"fBinStatErrOpt\":0,\"fStatOverflows\":2,\"fArray\":[2949089,0,1,5,7,6,1,0,2,2,1,4,2,4,3,1,1,1,3,2,4,1,6,2,1,4,2,1,2,5,0,0,3,2,4,2,4,3,3,3,3,4,3,3,0,2,2,6,5,0,2,1,1,3,1,3,1,4,1,2,4,0,2,2,3,4,0,1,5,2,1,4,1,1,1,3,0,2,2,3,1,0,1,0,2,4,4,1,2,5,1,2,0,3,2,3,1,4,2,4,1,3,3,5,2,4,0,3,2,3,2,0,3,1,1,2,3,2,2,4,6,0,2,4,3,5,1,6,1,4,3,2,5,3,2,4,2,0,3,3,3,4,3,2,3,2,3,1,3,3,2,4,5,2,3,4,2,3,7,1,5,3,2,2,1,1,5,3,3,2,1,4,3,1,2,3,4,1,3,0,3,0,1,2,5,3,6,2,5,3,2,3,1,2,2,3,1,2,3,2,2,3,3,5,2,3,1,1,1,2,2,2,2,5,2,0,0,2,2,2,4,3,2,3,0,3,0,2,1,4,2,1,3,6,2,3,4,3,2,1,2,0,4,1,1,1,2,2,4,0,3,2,1,6,1,1,3,3,0,3,3,2,5,3,3,2,3,2,2,3,2,3,2,6,1,3,0,3,3,2,1,5,2,3,1,2,2,0,4,2,1,4,2,0,4,4,2,0,3,1,0,3,2,1,1,1,4,0,2,5,4,2,1,3,4,5,3,1,2,4,3,1,2,2,5,2,3,3,1,1,0,3,2,1,0,5,1,1,4,4,1,2,2,2,2,2,1,0,3,3,1,2,4,6,3,3,2,2,2,1,1,3,5,1,3,3,6,1,1,2,3,1,3,5,1,2,1,2,4,5,3,2,1,2,2,1,5,8,2,1,2,2,2,3,3,4,6,1,3,2,2,0,4,0,1,1,4,0,6,2,1,2,1,1,1,3,4,3,4,4,0,2,5,3,1,4,2,5,1,0,4,1,4,1,5,7,3,4,3,6,1,6,1,3,3,1,3,4,3,2,2,4,4,2,6,9,2,5,1,2,6,2,3,1,1,6,2,5,2,3,6,2,4,5,1,5,6,5,4,4,7,3,5,7,3,8,2,3,4,8,10,6,10,6,4,9,8,7,8,6,12,11,3,7,10,10,10,7,6,9,8,8,10,7,7,14,7,10,11,18,10,8,14,11,11,18,7,13,8,11,6,11,7,9,7,20,20,15,11,18,12,12,12,13,18,19,10,20,20,21,10,19,22,25,23,15,22,19,30,21,17,27,19,22,21,24,16,20,16,24,16,19,13,29,17,16,23,12,24,26,20,23,18,20,24,17,21,21,15,32,23,20,30,21,17,15,16,18,13,13,24,14,17,12,18,16,13,17,13,20,17,20,13,25,16,22,16,12,13,16,13,20,9,7,13,11,11,12,10,9,8,10,11,11,11,8,6,10,9,13,9,8,10,10,3,8,12,9,8,10,9,12,10,4,7,10,8,9,4,14,12,4,4,10,4,3,8,11,11,10,15,11,7,3,11,10,7,9,9,5,6,6,7,4,5,6,3,5,11,8,10,10,14,4,1,6,8,6,8,8,6,6,11,5,5,5,1,4,5,7,3,8,4,6,4,10,6,4,4,7,7,5,1,3,4,5,7,6,1,4,2,11,5,6,5,5,7,3,7,5,0,4,2,8,5,4,3,2,1,2,4,4,4,2,3,2,6,3,5,5,3,2,5,2,1,2,1,3,0,2,1,3,5,3,3,6,5,4,1,5,2,5,2,0,6,2,8,3,3,2,6,6,4,2,2,4,1,5,3,6,2,3,4,4,3,2,2,6,3,3,5,3,2,2,3,4,1,5,3,4,4,1,2,1,2,6,2,2,3,5,1,4,0,3,1,3,5,1,2,3,3,0,1,4,2,2,0,4,3,4,3,4,2,2,1,5,1,2,4,2,2,3,0,3,4,3,5,3,3,0,1,1,3,5,0,3,3,1,2,3,4,4,1,3,4,0,3,3,1,1,3,4,2,4,2,3,1,2,1,3,2,0,2,2,3,4,1,1,2,4,3,3,5,1,1,2,1,1,1,2,1,0,2,0,4,2,0,3,4,3,2,2,0,2,0,1,5,1,2,2,0,5,2,6,1,2,1,0,2,2,6,1,4,5,2,1,2,2,2,1,2,2,3,0,2,2,2,0,1,3,0,1,0,2,3,2,1,2,0,3,5,5,2,1,2,2,1,2,3,0,2,2,3,5,3,2,3,2,0,2,3,6638031]}],\"opt\":[\"col1\"]},\"fExecs\":{\"_typename\":\"TList\",\"name\":\"TList\",\"arr\":[],\"opt\":[]},\"fName\":\"c1_1\",\"fTitle\":\"c1_1\",\"fNumPaletteColor\":0,\"fNextPaletteColor\":0},{\"_typename\":\"TPad\",\"fUniqueID\":0,\"fBits\":50331657,\"fLineColor\":1,\"fLineStyle\":1,\"fLineWidth\":1,\"fFillColor\":0,\"fFillStyle\":1001,\"fLeftMargin\":0.1,\"fRightMargin\":0.1,\"fBottomMargin\":0.1,\"fTopMargin\":0.1,\"fXfile\":2,\"fYfile\":2,\"fAfile\":1,\"fXstat\":0.99,\"fYstat\":0.99,\"fAstat\":2,\"fFrameFillColor\":0,\"fFrameLineColor\":1,\"fFrameFillStyle\":1001,\"fFrameLineStyle\":1,\"fFrameLineWidth\":1,\"fFrameBorderSize\":1,\"fFrameBorderMode\":0,\"fX1\":0,\"fY1\":0,\"fX2\":1,\"fY2\":1,\"fXtoAbsPixelk\":354.960049844432,\"fXtoPixelk\":5e-5,\"fXtoPixel\":334.080000311136,\"fYtoAbsPixelk\":467.2800501055,\"fYtoPixelk\":462.560050211,\"fYtoPixel\":-462.560000211,\"fUtoAbsPixelk\":354.960049844432,\"fUtoPixelk\":5e-5,\"fUtoPixel\":334.080000311136,\"fVtoAbsPixelk\":467.2800501055,\"fVtoPixelk\":462.560000211,\"fVtoPixel\":-462.560000211,\"fAbsPixeltoXk\":-1.06249999854481,\"fPixeltoXk\":0,\"fPixeltoX\":0.00299329501636937,\"fAbsPixeltoYk\":1.01020408139992,\"fPixeltoYk\":0,\"fPixeltoY\":-0.00216188170084712,\"fXlowNDC\":0.509999999776483,\"fYlowNDC\":0.00999999977648258,\"fXUpNDC\":0,\"fYUpNDC\":0,\"fWNDC\":0.480000000447035,\"fHNDC\":0.980000000447035,\"fAbsXlowNDC\":0.509999999776483,\"fAbsYlowNDC\":0.00999999977648258,\"fAbsWNDC\":0.480000000447035,\"fAbsHNDC\":0.980000000447035,\"fUxmin\":0,\"fUymin\":0,\"fUxmax\":1,\"fUymax\":1,\"fTheta\":30,\"fPhi\":30,\"fAspectRatio\":0,\"fNumber\":2,\"fTickx\":0,\"fTicky\":0,\"fLogx\":0,\"fLogy\":0,\"fLogz\":0,\"fPadPaint\":0,\"fCrosshair\":0,\"fCrosshairPos\":0,\"fBorderSize\":2,\"fBorderMode\":0,\"fModified\":true,\"fGridx\":false,\"fGridy\":false,\"fAbsCoord\":false,\"fEditable\":true,\"fFixedAspectRatio\":false,\"fPrimitives\":{\"_typename\":\"TList\",\"name\":\"TList\",\"arr\":[{\"_typename\":\"TH2F\",\"fUniqueID\":0,\"fBits\":50331657,\"fName\":\"FTOF1B.Time-FTOF2.Time:P.Theta*TMath::RadToDeg()_FTOF1B.Time-FTOF2.Time_copy\",\"fTitle\":\"FTOF1B.Time-FTOF2.Time:P.Theta*TMath::RadToDeg() for FTOF1B.Time-FTOF2.Time\",\"fLineColor\":602,\"fLineStyle\":1,\"fLineWidth\":1,\"fFillColor\":0,\"fFillStyle\":1001,\"fMarkerColor\":1,\"fMarkerStyle\":1,\"fMarkerSize\":1,\"fNcells\":2704,\"fXaxis\":{\"_typename\":\"TAxis\",\"fUniqueID\":0,\"fBits\":50331648,\"fName\":\"xaxis\",\"fTitle\":\"\",\"fNdivisions\":510,\"fAxisColor\":1,\"fLabelColor\":1,\"fLabelFont\":42,\"fLabelOffset\":0.005,\"fLabelSize\":0.035,\"fTickLength\":0.03,\"fTitleOffset\":1,\"fTitleSize\":0.035,\"fTitleColor\":1,\"fTitleFont\":42,\"fNbins\":50,\"fXmin\":-5,\"fXmax\":5,\"fXbins\":[],\"fFirst\":0,\"fLast\":0,\"fBits2\":0,\"fTimeDisplay\":false,\"fTimeFormat\":\"\",\"fLabels\":null,\"fModLabs\":null},\"fYaxis\":{\"_typename\":\"TAxis\",\"fUniqueID\":0,\"fBits\":50331648,\"fName\":\"yaxis\",\"fTitle\":\"\",\"fNdivisions\":510,\"fAxisColor\":1,\"fLabelColor\":1,\"fLabelFont\":42,\"fLabelOffset\":0.005,\"fLabelSize\":0.035,\"fTickLength\":0.03,\"fTitleOffset\":0,\"fTitleSize\":0.035,\"fTitleColor\":1,\"fTitleFont\":42,\"fNbins\":50,\"fXmin\":0,\"fXmax\":40,\"fXbins\":[],\"fFirst\":0,\"fLast\":0,\"fBits2\":0,\"fTimeDisplay\":false,\"fTimeFormat\":\"\",\"fLabels\":null,\"fModLabs\":null},\"fZaxis\":{\"_typename\":\"TAxis\",\"fUniqueID\":0,\"fBits\":50331648,\"fName\":\"zaxis\",\"fTitle\":\"\",\"fNdivisions\":510,\"fAxisColor\":1,\"fLabelColor\":1,\"fLabelFont\":42,\"fLabelOffset\":0.005,\"fLabelSize\":0.035,\"fTickLength\":0.03,\"fTitleOffset\":1,\"fTitleSize\":0.035,\"fTitleColor\":1,\"fTitleFont\":42,\"fNbins\":1,\"fXmin\":0,\"fXmax\":1,\"fXbins\":[],\"fFirst\":0,\"fLast\":0,\"fBits2\":0,\"fTimeDisplay\":false,\"fTimeFormat\":\"\",\"fLabels\":null,\"fModLabs\":null},\"fBarOffset\":0,\"fBarWidth\":1000,\"fEntries\":9591925,\"fTsumw\":4391,\"fTsumw2\":4391,\"fTsumwx\":1985.77264643158,\"fTsumwx2\":20670.4688274065,\"fMaximum\":-1111,\"fMinimum\":-1111,\"fNormFactor\":0,\"fContour\":[],\"fSumw2\":[],\"fOption\":\"\",\"fFunctions\":{\"_typename\":\"TList\",\"name\":\"TList\",\"arr\":[],\"opt\":[]},\"fBufferSize\":0,\"fBuffer\":[],\"fBinStatErrOpt\":0,\"fStatOverflows\":2,\"fScalefactor\":1,\"fTsumwy\":74785.7209032815,\"fTsumwy2\":2377423.01986089,\"fTsumwxy\":72538.7449089831,\"fArray\":[0,0,0,0,0,0,0,0,0,0,0,0,0,0,0,0,0,0,0,0,0,0,0,0,0,0,0,0,0,0,0,0,0,0,0,0,0,0,0,0,0,0,0,0,0,0,0,0,0,0,0,0,181498,42,47,43,34,39,46,46,59,45,44,39,39,34,45,38,43,36,31,41,47,33,43,43,37,40,49,44,37,31,48,50,39,32,48,40,41,47,34,32,45,45,33,31,39,34,30,29,43,23,40,52507,73,0,0,0,0,0,0,0,0,0,0,0,0,0,0,0,0,0,0,0,0,0,0,0,0,0,0,0,0,0,0,0,0,0,0,0,0,0,0,0,0,0,0,0,0,0,0,0,0,0,0,538,133,0,0,0,0,0,0,0,0,0,0,0,0,0,0,0,0,0,0,0,0,0,0,0,0,0,0,0,0,0,0,0,0,0,0,0,0,0,0,0,0,0,0,0,0,0,0,0,0,0,0,1078,183,0,0,0,0,0,0,0,0,0,0,0,0,0,0,0,0,0,0,0,0,0,0,0,0,0,0,0,0,0,0,0,0,0,0,0,0,0,0,0,0,0,0,0,0,0,0,0,0,0,0,1878,307,0,0,0,0,0,0,0,0,0,0,0,0,0,0,0,0,0,0,0,0,0,0,0,0,0,0,0,0,0,0,0,0,0,0,0,0,0,0,0,0,0,0,0,0,0,0,0,0,0,0,5333,440,0,0,0,0,0,0,0,0,0,0,0,0,0,0,0,0,0,0,0,0,0,0,0,0,0,1,0,0,0,0,0,0,0,0,1,0,0,0,0,0,0,0,0,0,0,0,0,0,0,0,11625,594,0,0,0,0,0,0,0,0,0,0,0,0,0,0,0,0,0,0,0,0,0,0,0,0,0,1,0,0,0,1,0,0,0,0,0,0,0,1,0,0,0,0,0,0,0,0,0,0,0,0,33758,767,0,0,0,0,0,0,0,0,0,0,0,0,0,0,0,0,0,1,0,0,0,0,0,0,0,0,1,0,0,0,0,0,0,0,0,0,0,0,0,0,0,0,0,0,0,0,0,0,0,0,85289,1071,0,0,0,0,0,0,0,0,0,0,0,0,0,0,0,0,0,0,0,0,0,0,0,0,0,0,0,1,0,0,0,0,1,0,0,0,0,0,0,0,0,0,0,0,0,0,0,0,0,0,114590,1314,0,0,0,0,0,0,0,0,0,0,0,0,0,0,0,0,0,0,0,0,0,0,0,0,0,0,1,0,0,0,0,0,1,0,0,0,1,0,0,0,0,0,0,0,0,0,0,0,0,0,201891,1608,0,0,0,0,0,0,0,0,0,0,0,0,0,0,0,0,0,0,0,0,0,0,0,0,0,0,0,0,1,1,0,0,0,0,0,0,0,0,0,0,0,0,0,0,0,0,0,0,0,0,301160,1907,0,0,0,0,0,0,0,0,0,0,0,0,0,0,0,0,0,0,0,0,0,0,0,0,0,0,1,0,0,0,0,0,0,0,1,0,0,0,1,0,0,0,0,0,0,0,0,0,0,0,347278,2162,0,0,0,0,0,0,0,0,0,0,0,0,0,0,0,0,0,0,0,0,0,0,0,0,0,0,0,2,0,0,0,0,0,0,0,0,0,0,0,0,0,0,0,0,0,0,0,0,0,0,360339,2420,0,0,0,0,0,0,0,0,0,0,0,0,0,0,0,0,0,0,0,0,0,0,0,0,0,0,0,0,0,0,0,1,0,1,0,0,0,0,0,0,0,0,0,0,0,0,0,0,0,0,348288,2552,0,0,0,0,0,0,0,0,0,0,0,0,0,0,0,0,0,0,0,0,0,0,0,0,0,0,0,0,0,0,0,0,0,1,0,0,0,0,0,0,0,0,0,0,0,0,0,0,0,0,331052,2854,0,0,0,0,0,0,0,0,0,0,0,0,0,0,0,0,0,0,0,0,0,0,0,0,0,0,0,0,0,0,0,0,0,0,0,0,0,0,0,1,0,0,0,0,0,0,0,0,0,0,309737,2937,0,0,0,0,0,0,0,0,0,0,0,0,0,0,0,0,0,0,0,0,0,0,0,0,0,0,0,0,1,2,0,0,0,0,0,0,0,0,0,0,0,0,0,0,0,0,0,0,0,1,287487,3246,0,0,0,0,0,0,0,0,0,0,0,0,0,0,0,0,0,0,0,0,0,0,0,0,0,0,0,0,0,0,0,0,0,1,1,0,0,0,0,0,0,0,0,0,0,1,0,0,0,0,267599,3403,0,0,0,0,0,0,0,0,0,0,0,0,0,0,0,0,0,1,0,0,0,0,0,0,0,0,0,1,0,0,1,0,0,0,0,1,0,0,0,0,0,0,0,0,0,0,0,0,0,0,250003,3707,0,0,0,0,0,0,0,0,0,0,0,0,0,0,0,0,0,0,0,0,0,0,0,1,1,0,0,0,0,0,0,0,0,0,0,1,0,0,0,1,0,0,0,0,0,0,0,0,0,0,235733,3874,0,0,0,0,0,0,0,0,0,0,0,0,0,0,0,0,0,0,0,0,0,0,0,0,1,1,0,0,1,0,0,0,1,0,0,0,0,0,0,0,0,0,0,0,0,0,0,0,0,0,226237,4168,0,1,0,0,0,0,0,0,0,0,0,0,0,0,0,0,0,0,0,0,0,0,0,0,0,1,0,0,1,0,0,1,0,0,0,0,0,0,0,0,0,0,0,0,0,0,0,0,0,0,216001,4319,0,0,0,0,0,0,0,0,0,0,0,0,0,0,0,0,0,0,0,0,0,0,0,0,1,0,2,0,1,1,0,1,0,0,1,0,0,0,0,0,0,0,0,0,0,0,0,0,0,0,205810,4679,0,0,0,0,0,0,0,0,0,0,0,0,0,0,0,0,0,0,0,0,0,0,0,0,0,0,1,0,2,0,1,0,1,0,1,1,1,0,0,0,0,0,0,0,0,0,0,0,0,0,195821,4992,0,0,0,0,0,0,0,0,0,0,0,0,0,0,0,0,0,0,0,0,0,0,0,0,0,0,0,1,3,1,1,2,0,1,0,1,0,0,1,0,0,0,0,0,0,0,0,0,0,0,184889,5271,0,0,0,0,0,0,0,0,0,0,0,0,0,0,0,0,0,0,0,0,0,0,0,0,0,0,1,1,2,1,2,1,0,0,0,0,0,1,0,1,0,0,1,0,0,1,0,0,0,0,173064,5534,0,0,0,0,0,0,0,0,0,0,0,0,0,0,0,0,0,0,0,0,0,0,0,0,0,0,0,1,0,0,1,1,0,0,0,0,0,0,0,0,0,0,0,0,0,0,0,1,0,0,163978,5949,0,0,0,0,0,0,0,0,0,0,0,0,0,0,0,0,0,0,0,0,0,0,0,0,1,1,2,2,2,1,2,3,1,0,1,0,0,0,0,0,0,0,0,0,0,0,0,0,0,0,154066,6366,0,0,0,0,0,0,0,0,0,0,0,0,0,0,0,0,0,0,0,0,0,0,0,0,0,0,0,0,1,1,2,2,1,2,0,2,1,0,0,0,0,0,0,0,0,0,0,0,0,0,146229,6699,0,0,0,0,0,0,0,0,0,0,0,0,0,0,0,0,0,0,0,0,0,0,0,0,2,1,2,2,2,5,3,0,1,2,2,2,0,0,0,1,0,0,0,0,0,0,0,0,0,0,139872,7105,0,0,0,0,0,0,0,0,0,0,0,0,0,0,0,0,0,0,0,1,0,1,0,0,0,1,0,1,2,5,0,0,0,2,1,0,0,1,0,0,1,0,0,0,0,0,0,0,0,0,132072,7759,0,0,0,0,0,0,0,0,0,0,0,0,0,0,0,0,0,0,0,0,0,0,0,1,0,0,0,1,1,2,0,1,3,0,2,1,0,0,0,1,2,0,1,0,0,0,0,0,0,0,124599,8174,0,0,0,0,0,0,0,0,0,0,0,0,0,0,0,0,0,0,0,0,0,0,0,1,1,2,1,1,1,3,3,3,1,1,2,1,0,0,2,0,1,0,0,0,0,0,0,0,0,1,117178,8460,0,0,0,0,0,0,0,0,0,0,0,0,0,0,0,0,0,0,0,0,1,0,0,0,0,1,1,2,1,2,1,0,2,5,2,3,0,0,2,0,0,1,0,0,0,0,0,0,0,0,110167,9291,0,0,0,0,0,0,0,0,0,0,0,0,0,0,0,1,0,2,0,0,0,0,0,1,1,2,5,1,7,4,1,3,2,2,3,1,0,1,0,1,0,0,0,1,0,0,0,0,0,0,104480,9965,0,0,0,0,0,0,0,0,0,0,1,0,0,0,0,0,0,0,0,0,0,0,1,2,1,4,2,0,5,2,6,3,1,6,1,1,3,1,0,2,1,0,0,0,0,0,0,0,0,0,97439,11007,0,0,0,0,0,0,0,0,0,0,0,0,0,0,0,2,2,0,1,0,1,1,0,0,0,3,3,4,8,5,7,5,6,5,4,4,2,2,2,1,1,0,0,1,0,0,0,0,0,0,93126,12388,0,0,0,0,0,0,0,0,0,0,0,1,0,1,1,0,0,0,0,1,0,1,2,4,1,2,11,7,14,8,11,9,5,3,4,3,1,5,0,0,2,2,2,0,1,0,1,0,0,0,86004,14298,1,0,1,0,0,0,0,0,0,0,0,0,0,1,0,0,0,0,1,0,1,3,7,4,11,5,9,25,22,20,21,13,13,15,10,5,4,4,2,1,3,1,1,0,1,0,0,0,1,0,81216,17339,0,0,0,0,0,0,0,0,0,0,1,0,0,0,0,2,1,0,1,2,0,0,7,4,19,26,33,68,65,64,43,31,21,15,19,4,5,3,4,3,3,3,0,1,0,1,1,0,1,2,75511,20085,0,0,0,0,0,0,0,0,0,0,0,0,0,1,0,0,0,0,1,0,1,5,2,4,22,31,50,74,70,57,73,29,18,13,13,11,8,9,1,3,1,3,3,1,0,1,0,0,0,0,59927,22762,0,0,0,0,0,0,0,0,0,0,0,0,0,0,1,0,0,0,0,0,0,1,1,5,10,16,22,47,61,58,32,23,31,18,13,10,3,1,3,5,4,2,2,1,3,0,1,1,2,1,40538,24438,0,0,0,1,0,0,1,0,0,0,0,0,0,1,0,0,0,0,1,0,0,0,1,2,11,12,16,31,24,25,22,15,16,9,6,3,5,2,1,2,0,0,0,2,0,1,0,1,0,0,29037,24588,0,0,0,0,0,0,0,0,0,0,0,0,0,0,0,0,0,0,0,0,0,0,1,0,0,0,7,11,7,11,4,6,6,2,2,0,1,2,3,0,1,0,0,0,0,0,0,0,0,0,20905,23027,0,0,0,0,0,0,0,0,0,0,0,0,0,0,0,0,0,0,0,0,0,0,0,0,1,1,0,3,2,4,1,2,2,2,0,2,1,0,0,0,0,0,0,0,0,0,0,0,0,0,16433,20799,0,0,0,0,0,0,0,0,0,0,0,0,0,0,0,0,0,0,0,0,0,0,0,0,0,1,2,0,2,3,0,2,2,1,1,0,2,1,0,0,0,0,0,0,0,0,0,1,0,0,12935,17630,0,0,0,0,0,0,0,0,0,0,0,0,0,0,0,0,0,0,0,0,0,0,1,0,0,1,1,1,6,5,1,0,0,0,0,0,0,0,0,0,0,0,0,0,0,0,0,0,1,0,10395,16022,0,0,0,0,0,0,0,0,0,0,0,0,0,0,0,0,0,0,0,0,1,0,0,0,0,0,0,1,2,4,0,1,0,0,0,0,1,0,0,0,0,0,0,0,0,0,0,0,0,0,8289,15875,0,0,0,0,0,0,0,0,0,0,0,1,0,0,0,0,0,0,0,0,0,0,0,0,0,0,3,7,1,2,2,1,0,1,0,0,0,0,0,0,0,0,1,0,0,0,0,0,0,0,6876,17751,0,0,0,0,0,0,0,0,0,0,0,0,0,0,0,0,0,0,0,0,1,0,0,0,0,2,0,1,3,3,2,0,0,0,0,2,0,0,0,0,0,0,0,0,0,0,0,0,0,0,5902,2375299,7,3,4,3,3,5,9,3,2,6,3,6,7,2,2,3,3,9,9,3,3,7,3,8,5,18,16,34,52,52,30,10,9,2,5,12,6,4,2,4,1,5,6,4,8,5,3,2,6,0,51872]}],\"opt\":[\"col1\"]},\"fExecs\":{\"_typename\":\"TList\",\"name\":\"TList\",\"arr\":[],\"opt\":[]},\"fName\":\"c1_2\",\"fTitle\":\"c1_2\",\"fNumPaletteColor\":0,\"fNextPaletteColor\":0}],\"opt\":[\"\",\"\"]},\"fExecs\":null,\"fName\":\"c1\",\"fTitle\":\"c1\",\"fNumPaletteColor\":0,\"fNextPaletteColor\":0,\"fDISPLAY\":\"$DISPLAY\",\"fDoubleBuffer\":0,\"fRetained\":true,\"fXsizeUser\":0,\"fYsizeUser\":0,\"fXsizeReal\":20,\"fYsizeReal\":14.28571,\"fWindowTopX\":0,\"fWindowTopY\":0,\"fWindowWidth\":0,\"fWindowHeight\":0,\"fCw\":696,\"fCh\":472,\"fCatt\":{\"_typename\":\"TAttCanvas\",\"fXBetween\":2,\"fYBetween\":2,\"fTitleFromTop\":1.2,\"fXdate\":0.2,\"fYdate\":0.3,\"fAdate\":1},\"kMoveOpaque\":true,\"kResizeOpaque\":true,\"fHighLightColor\":2,\"fBatch\":true,\"kShowEventStatus\":false,\"kAutoExec\":true,\"kMenuBar\":true});\n",
       "       Core.draw(\"root_plot_1\", obj, \"\");\n",
       "     }\n",
       " );\n",
       "</script>\n"
      ],
      "text/plain": [
       "<IPython.core.display.HTML object>"
      ]
     },
     "metadata": {},
     "output_type": "display_data"
    },
    {
     "name": "stdout",
     "output_type": "stream",
     "text": [
      "loop time : Real Time =  90.21 seconds Cpu Time =  39.99 seconds\n"
     ]
    }
   ],
   "source": [
    "hists.Hist1D(\"FTOF1B.Time-FTOF2.Time\",1000,-5,5,\"FTOF1B.Time-FTOF2.Time\");\n",
    "hists.Hist2D(\"FTOF1B.Time-FTOF2.Time:P.Theta*TMath::RadToDeg()\",50,-5,5,50,0,40,\"FTOF1B.Time-FTOF2.Time\")->Draw(\"(2x1)col1\");"
   ]
  },
  {
   "cell_type": "markdown",
   "metadata": {},
   "source": [
    "## Drawing hists 2\n",
    "Now draw the $\\theta$ versus $\\phi$ distributions for different particle types"
   ]
  },
  {
   "cell_type": "code",
   "execution_count": null,
   "metadata": {
    "scrolled": false
   },
   "outputs": [],
   "source": [
    "  hists.Hist2D(\"P.Theta*TMath::RadToDeg():P.Phi*TMath::RadToDeg()\",180,0,180,180,-180,180,\"P.Pid==11\");\n",
    "  hists.Hist2D(\"P.Theta*TMath::RadToDeg():P.Phi*TMath::RadToDeg()\",180,0,180,180,-180,180,\"P.Pid==-11\");\n",
    "  hists.Hist2D(\"P.Theta*TMath::RadToDeg():P.Phi*TMath::RadToDeg()\",180,0,180,180,-180,180,\"P.Pid==22\");\n",
    "  hists.Hist2D(\"P.Theta*TMath::RadToDeg():P.Phi*TMath::RadToDeg()\",180,0,180,180,-180,180,\"P.Pid==2212\");\n",
    "  hists.Hist2D(\"P.Theta*TMath::RadToDeg():P.Phi*TMath::RadToDeg()\",180,0,180,180,-180,180,\"P.Pid==211\");\n",
    "  hists.Hist2D(\"P.Theta*TMath::RadToDeg():P.Phi*TMath::RadToDeg()\",180,0,180,180,-180,180,\"P.Pid==-211\");\n",
    "  hists.Hist2D(\"P.Theta*TMath::RadToDeg():P.Phi*TMath::RadToDeg()\",180,0,180,180,-180,180,\"P.Pid==321\");\n",
    "  hists.Hist2D(\"P.Theta*TMath::RadToDeg():P.Phi*TMath::RadToDeg()\",180,0,180,180,-180,180,\"P.Pid==-321\")->Draw(\"(4x2)col1\");"
   ]
  },
  {
   "cell_type": "markdown",
   "metadata": {},
   "source": [
    "# Drawing hists 3\n",
    "\n",
    "The particle beta and measured mass can be returned from the region particle too. \n",
    "Here we draw the beta and mass versus particle momentum for each of the 3 detector regions."
   ]
  },
  {
   "cell_type": "code",
   "execution_count": null,
   "metadata": {
    "scrolled": false
   },
   "outputs": [],
   "source": [
    " hists.Hist2D(\"P.P:P.Beta\",100,0,10,100,0.1,2,\"P.Beta&&P.Region==FT\");\n",
    " hists.Hist2D(\"P.P:P.Beta\",100,0,10,100,0.1,2,\"P.Beta&&P.Region==FD\");\n",
    " hists.Hist2D(\"P.P:P.Beta\",100,0,10,100,0.1,2,\"P.Beta&&P.Region==CD\");\n",
    " hists.Hist2D(\"P.P:P.CalcMass\",100,0,10,100,-1,2,\"P.CalcMass&&P.Region==FT\");\n",
    " hists.Hist2D(\"P.P:P.CalcMass\",100,0,10,100,-1,2,\"P.CalcMass&&P.Region==FD\");\n",
    " hists.Hist2D(\"P.P:P.CalcMass\",100,0,10,100,-1,2,\"P.CalcMass&&P.Region==CD\")->Draw(\"(3x2)col1\");\n"
   ]
  },
  {
   "cell_type": "markdown",
   "metadata": {},
   "source": [
    "Save all the files to a destination of your choice"
   ]
  },
  {
   "cell_type": "code",
   "execution_count": null,
   "metadata": {},
   "outputs": [],
   "source": [
    "hists.Save(\"hists.root\")"
   ]
  }
 ],
 "metadata": {
  "kernelspec": {
   "display_name": "ROOT C++",
   "language": "c++",
   "name": "root"
  },
  "language_info": {
   "codemirror_mode": "text/x-c++src",
   "file_extension": ".C",
   "mimetype": " text/x-c++src",
   "name": "c++"
  }
 },
 "nbformat": 4,
 "nbformat_minor": 2
}
